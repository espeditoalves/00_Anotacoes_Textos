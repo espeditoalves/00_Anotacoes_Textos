{
 "cells": [
  {
   "attachments": {},
   "cell_type": "markdown",
   "metadata": {},
   "source": [
    "# Metodo Fit ()"
   ]
  },
  {
   "attachments": {},
   "cell_type": "markdown",
   "metadata": {},
   "source": [
    "O método fit() funciona de forma diferente dependendo do tipo de modelo de machine learning que você está usando.\n",
    "\n",
    "No caso da regressão linear, o método fit() usa um algoritmo chamado mínimos quadrados ordinários (OLS) para encontrar os coeficientes que minimizam a soma dos quadrados dos erros entre os valores reais e os valores previstos pelo modelo. O erro é a diferença entre o valor real e o valor previsto para cada observação. \n",
    "\n",
    "O método fit() calcula os coeficientes usando uma fórmula matemática que envolve a inversão da matriz dos dados de treinamento (X) e a multiplicação pelo vetor dos valores alvo (y). O resultado é um vetor de coeficientes que representa a reta que melhor se ajusta aos dados. O método fit() armazena esses coeficientes como atributos do objeto do modelo, que podem ser acessados depois usando model.coef_ e model.intercept_. Esses coeficientes são usados pelo método predict() para fazer previsões para novos dados.  \n",
    "\n",
    "\n",
    "Fonte: https://medium.com/data-hackers/implementando-regress%C3%A3o-linear-simples-em-python-91df53b920a8"
   ]
  },
  {
   "attachments": {},
   "cell_type": "markdown",
   "metadata": {},
   "source": [
    "O método fit faz o seguinte processo:\n",
    "\n",
    "- Recebe como parâmetros os dados de treinamento (X) e os valores alvo (y) que correspondem às classes ou aos valores que queremos prever.\n",
    "\n",
    "- Escolhe um algoritmo de machine learning adequado para o tipo de problema (classificação, regressão, clusterização, etc.) e para os dados disponíveis (número de variáveis, tipo de variáveis, distribuição dos dados, etc.).\n",
    "\n",
    "- Aplica o algoritmo aos dados de treinamento e aos valores alvo para encontrar os parâmetros que melhor se ajustam aos dados e que permitem fazer previsões precisas. Esses parâmetros podem ser coeficientes, pesos, centros, etc., dependendo do tipo de algoritmo.\n",
    "\n",
    "- Armazena os parâmetros encontrados como atributos do objeto do modelo, que podem ser acessados depois usando model.params_, onde `params_ ` pode variar de acordo com o algoritmo usado.\n",
    "\n",
    "- Retorna o objeto do modelo ajustado, que pode ser usado para fazer previsões para novos dados usando o método predict() ou para avaliar a qualidade do modelo usando métricas e testes estatísticos."
   ]
  }
 ],
 "metadata": {
  "kernelspec": {
   "display_name": "base",
   "language": "python",
   "name": "python3"
  },
  "language_info": {
   "codemirror_mode": {
    "name": "ipython",
    "version": 3
   },
   "file_extension": ".py",
   "mimetype": "text/x-python",
   "name": "python",
   "nbconvert_exporter": "python",
   "pygments_lexer": "ipython3",
   "version": "3.10.9"
  },
  "orig_nbformat": 4
 },
 "nbformat": 4,
 "nbformat_minor": 2
}
